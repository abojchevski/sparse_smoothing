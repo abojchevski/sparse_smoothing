{
 "cells": [
  {
   "cell_type": "code",
   "execution_count": 1,
   "metadata": {},
   "outputs": [],
   "source": [
    "%load_ext autoreload\n",
    "%autoreload 2"
   ]
  },
  {
   "cell_type": "code",
   "execution_count": 2,
   "metadata": {},
   "outputs": [],
   "source": [
    "import torch\n",
    "import numpy as np\n",
    "from sparse_smoothing.models import GCN\n",
    "from sparse_smoothing.utils import load_and_standardize\n",
    "from sparse_smoothing.cert import p_lower_from_votes, binary_certificate_grid\n",
    "from sparse_smoothing.cert import regions_discrete, compute_rho_for_many\n",
    "from sparse_smoothing.prediction import predict_smooth_gnn\n",
    "\n",
    "import seaborn as sns\n",
    "import matplotlib.pyplot as plt"
   ]
  },
  {
   "cell_type": "markdown",
   "metadata": {},
   "source": [
    "## Example certificate for binary data"
   ]
  },
  {
   "cell_type": "markdown",
   "metadata": {},
   "source": [
    "#### Load pre-trained GCN model and load dataset"
   ]
  },
  {
   "cell_type": "code",
   "execution_count": 3,
   "metadata": {},
   "outputs": [],
   "source": [
    "graph = load_and_standardize('data/cora_ml.npz')\n",
    "n, d = graph.attr_matrix.shape\n",
    "nc = graph.labels.max() + 1"
   ]
  },
  {
   "cell_type": "code",
   "execution_count": 4,
   "metadata": {},
   "outputs": [],
   "source": [
    "pf_plus_att = 0.01\n",
    "pf_minus_att = 0.6\n",
    "loaded = torch.load(f'data/gcn_pretrained_{pf_minus_att}_{pf_plus_att}')\n",
    "\n",
    "model = GCN(n_features=d, n_classes=nc, n_hidden=64).cuda()\n",
    "model.load_state_dict(loaded['state_dict'])\n",
    "edge_idx = torch.LongTensor(np.stack(graph.adj_matrix.nonzero())). cuda()\n",
    "attr_idx = torch.LongTensor(np.stack(graph.attr_matrix.nonzero())).cuda()"
   ]
  },
  {
   "cell_type": "code",
   "execution_count": 5,
   "metadata": {
    "scrolled": true
   },
   "outputs": [
    {
     "data": {
      "application/vnd.jupyter.widget-view+json": {
       "model_id": "2b198a64dad94c9a811777bff3a384ab",
       "version_major": 2,
       "version_minor": 0
      },
      "text/plain": [
       "  0%|          | 0/20 [00:00<?, ?it/s]"
      ]
     },
     "metadata": {},
     "output_type": "display_data"
    },
    {
     "data": {
      "application/vnd.jupyter.widget-view+json": {
       "model_id": "9836a9444da74506b03a05aa85d61067",
       "version_major": 2,
       "version_minor": 0
      },
      "text/plain": [
       "  0%|          | 0/2000 [00:00<?, ?it/s]"
      ]
     },
     "metadata": {},
     "output_type": "display_data"
    }
   ],
   "source": [
    "n_samples_eval = 100_000\n",
    "\n",
    "sample_config = {\n",
    "    'n_samples': n_samples_eval,\n",
    "    'pf_plus_adj': 0,\n",
    "    'pf_minus_adj': 0,\n",
    "    'pf_plus_att': 0.01,\n",
    "    'pf_minus_att': 0.6,\n",
    "}\n",
    "batch_size = 50\n",
    "\n",
    "sample_config_pre_eval = sample_config.copy()\n",
    "sample_config_pre_eval['n_samples'] = 1_000\n",
    "\n",
    "# we a small number of samples to estimate the majority class\n",
    "pre_votes = predict_smooth_gnn(attr_idx=attr_idx, edge_idx=edge_idx,\n",
    "                               sample_config=sample_config_pre_eval,\n",
    "                               model=model, n=n, d=d, nc=nc,\n",
    "                               batch_size=batch_size)\n",
    "\n",
    "# we use a larger number of samples to estimate a lower bound\n",
    "# on the probability of observing the majority class\n",
    "votes = predict_smooth_gnn(attr_idx=attr_idx, edge_idx=edge_idx,\n",
    "                           sample_config=sample_config,\n",
    "                           model=model, n=n, d=d, nc=nc,\n",
    "                           batch_size=batch_size)"
   ]
  },
  {
   "cell_type": "code",
   "execution_count": 6,
   "metadata": {
    "scrolled": true
   },
   "outputs": [
    {
     "name": "stdout",
     "output_type": "stream",
     "text": [
      "max_ra=6, max_rd=18, min_p_emp=0.6970\n"
     ]
    },
    {
     "data": {
      "application/vnd.jupyter.widget-view+json": {
       "model_id": "3b287bf55e7f4dfd92e1ae3884712dd4",
       "version_major": 2,
       "version_minor": 0
      },
      "text/plain": [
       "  0%|          | 0/8 [00:00<?, ?it/s]"
      ]
     },
     "metadata": {},
     "output_type": "display_data"
    },
    {
     "data": {
      "application/vnd.jupyter.widget-view+json": {
       "model_id": "457eaaac8d3b45078785c103b0ad6586",
       "version_major": 2,
       "version_minor": 0
      },
      "text/plain": [
       "  0%|          | 0/160 [00:00<?, ?it/s]"
      ]
     },
     "metadata": {},
     "output_type": "display_data"
    }
   ],
   "source": [
    "conf_alpha = 0.01\n",
    "\n",
    "# compute the lower bound on the probability of the majority class\n",
    "p_lower = p_lower_from_votes(votes=votes, pre_votes=pre_votes, alpha=conf_alpha, n_samples=n_samples_eval)\n",
    "\n",
    "# compute the binary-class certificate 2D grid (for all pairs of ra and rd radii)\n",
    "# where grid_binary_class > 0.5 means the instance is robust\n",
    "grid_binary_class, *_ = binary_certificate_grid(pf_plus=pf_plus_att, pf_minus=pf_minus_att,\n",
    "                                            p_emps=p_lower, reverse=False, progress_bar=True)"
   ]
  },
  {
   "cell_type": "code",
   "execution_count": 7,
   "metadata": {},
   "outputs": [
    {
     "data": {
      "image/png": "[encoded data removed]",
      "text/plain": [
       "<Figure size 432x288 with 2 Axes>"
      ]
     },
     "metadata": {
      "needs_background": "light"
     },
     "output_type": "display_data"
    }
   ],
   "source": [
    "heatmap = (grid_binary_class>0.5).mean(0)\n",
    "sns.set_context('talk')\n",
    "sns.heatmap(heatmap, \n",
    "            cmap='Greys',\n",
    "            vmin=0, vmax=1, square=True, cbar_kws={\"shrink\": .5})\n",
    "plt.xlim(0, heatmap.shape[1])\n",
    "plt.ylim(0, heatmap.shape[0])\n",
    "plt.xlabel('$r_d$ radius')\n",
    "plt.ylabel('$r_a$ radius')\n",
    "plt.show()"
   ]
  },
  {
   "cell_type": "markdown",
   "metadata": {},
   "source": [
    "# Example certificate for discrete data"
   ]
  },
  {
   "cell_type": "code",
   "execution_count": 8,
   "metadata": {},
   "outputs": [],
   "source": [
    "# generate toy data, replace this with actual samples from your model\n",
    "np.random.seed(0)\n",
    "n_instances = 1000\n",
    "pre_votes = np.random.multinomial(n=n_samples_eval, pvals=[0.001, 0.001, 0.998], size=n_instances)\n",
    "votes = np.random.multinomial(n=n_samples_eval, pvals=[0.001, 0.001, 0.998], size=n_instances)"
   ]
  },
  {
   "cell_type": "code",
   "execution_count": 9,
   "metadata": {},
   "outputs": [],
   "source": [
    "# compute the lower bound on the probability of the majority class\n",
    "p_lower = p_lower_from_votes(votes=votes, pre_votes=pre_votes, alpha=conf_alpha, n_samples=n_samples_eval)"
   ]
  },
  {
   "cell_type": "code",
   "execution_count": 10,
   "metadata": {},
   "outputs": [
    {
     "name": "stdout",
     "output_type": "stream",
     "text": [
      "At radius r=6, 92.0 percent of nodes are certifiably robust\n"
     ]
    }
   ],
   "source": [
    "# if pf_plus = pf_minus any combination of ra+rd+rc=r gives the same result.\n",
    "pf_plus = pf_minus = 0.8\n",
    "ra = 6\n",
    "rd = 0\n",
    "rc = 0\n",
    "\n",
    "n_discrete_categories = 256\n",
    "\n",
    "regions = regions_discrete(ra=ra, rd=rd, rc=rc, k=n_discrete_categories, pf_plus=pf_plus, pf_minus=pf_minus)\n",
    "\n",
    "percent_robust = (compute_rho_for_many(regions=regions, p_emps=p_lower)>0.5).mean() * 100\n",
    "\n",
    "print(f'At radius r={ra+rd+rc}, {percent_robust} percent of nodes are certifiably robust')"
   ]
  }
 ],
 "metadata": {
  "kernelspec": {
   "display_name": "Python 3",
   "language": "python",
   "name": "python3"
  },
  "language_info": {
   "codemirror_mode": {
    "name": "ipython",
    "version": 3
   },
   "file_extension": ".py",
   "mimetype": "text/x-python",
   "name": "python",
   "nbconvert_exporter": "python",
   "pygments_lexer": "ipython3",
   "version": "3.8.8"
  }
 },
 "nbformat": 4,
 "nbformat_minor": 4
}
